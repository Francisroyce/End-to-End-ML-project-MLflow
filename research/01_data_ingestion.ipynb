{
 "cells": [
  {
   "cell_type": "code",
   "execution_count": 1,
   "id": "c83e9b80",
   "metadata": {},
   "outputs": [],
   "source": [
    "import os"
   ]
  },
  {
   "cell_type": "code",
   "execution_count": 2,
   "id": "9a110d21",
   "metadata": {},
   "outputs": [
    {
     "data": {
      "text/plain": [
       "'c:\\\\Users\\\\user\\\\Desktop\\\\End-to-End-ML-project-MLflow\\\\research'"
      ]
     },
     "execution_count": 2,
     "metadata": {},
     "output_type": "execute_result"
    }
   ],
   "source": [
    "%pwd"
   ]
  },
  {
   "cell_type": "code",
   "execution_count": null,
   "id": "17cb50e3",
   "metadata": {},
   "outputs": [],
   "source": [
    "#os.chdir(\"..\")"
   ]
  },
  {
   "cell_type": "code",
   "execution_count": 5,
   "id": "0abb5e64",
   "metadata": {},
   "outputs": [],
   "source": [
    "# entity\n",
    "\n",
    "from dataclasses import dataclass\n",
    "from pathlib import Path\n",
    "\n",
    "@dataclass(frozen=True)\n",
    "class DataIngestionConfig:\n",
    "    root_dir: Path\n",
    "    source_URL: str\n",
    "    local_data_file: Path\n",
    "    unzip_dir: Path"
   ]
  },
  {
   "cell_type": "code",
   "execution_count": 6,
   "id": "80c45d39",
   "metadata": {},
   "outputs": [
    {
     "name": "stdout",
     "output_type": "stream",
     "text": [
      "2025-08-25 13:13:47,530 - my_project - INFO - Initializing my_project package\n"
     ]
    }
   ],
   "source": [
    "from my_project.constants import *\n",
    "from my_project.utils.common import read_yaml, create_directories\n",
    "from pathlib import Path"
   ]
  },
  {
   "cell_type": "code",
   "execution_count": null,
   "id": "2dc9a47b",
   "metadata": {},
   "outputs": [],
   "source": [
    "# configuration manager\n",
    "class ConfigurationManager:\n",
    "    def __init__(\n",
    "        self,\n",
    "        config_filepath: Path = CONFIG_FILE_PATH,\n",
    "        params_filepath: Path = PARAMS_FILE_PATH,\n",
    "        schema_filepath: Path = SCHEMA_FILE_PATH,\n",
    "    ):\n",
    "        # Load configs\n",
    "        self.config = read_yaml(config_filepath)\n",
    "        self.params = read_yaml(params_filepath)\n",
    "        self.schema = read_yaml(schema_filepath)\n",
    "\n",
    "        # Ensure artifacts root exists\n",
    "        create_directories(Path(self.config.artifacts_root))\n",
    "        \n",
    "# data ingestion config\n",
    "    def get_data_ingestion_config(self) -> DataIngestionConfig:\n",
    "        cfg = self.config.data_ingestion\n",
    "\n",
    "        root_dir = Path(cfg.root_dir)\n",
    "        create_directories([root_dir])\n",
    "\n",
    "        return DataIngestionConfig(\n",
    "            root_dir=root_dir,\n",
    "            source_URL=cfg.source_URL,\n",
    "            local_data_file=Path(cfg.local_data_file),\n",
    "            unzip_dir=Path(cfg.unzip_dir),\n",
    "        )\n"
   ]
  },
  {
   "cell_type": "code",
   "execution_count": 8,
   "id": "ec7e16f5",
   "metadata": {},
   "outputs": [],
   "source": [
    "# component dependency\n",
    "import os\n",
    "import urllib.request as request\n",
    "import zipfile\n",
    "from my_project import logger\n",
    "from my_project.utils.common import get_size"
   ]
  },
  {
   "cell_type": "code",
   "execution_count": 9,
   "id": "e9527cab",
   "metadata": {},
   "outputs": [],
   "source": [
    "import os\n",
    "import zipfile\n",
    "from pathlib import Path\n",
    "from urllib import request\n",
    "\n",
    "from my_project.utils.common import get_size\n",
    "from my_project import logger\n",
    "\n",
    "\n",
    "class DataIngestion:\n",
    "    def __init__(self, config: DataIngestionConfig):\n",
    "        self.config = config\n",
    "\n",
    "    def download_file(self) -> None:\n",
    "        \"\"\"Downloads the dataset from the source URL if not already present.\"\"\"\n",
    "        local_path = Path(self.config.local_data_file)\n",
    "\n",
    "        if not local_path.exists():\n",
    "            logger.info(f\"Downloading file from: [{self.config.source_URL}] to: [{local_path}]\")\n",
    "            try:\n",
    "                request.urlretrieve(self.config.source_URL, local_path)\n",
    "                logger.info(f\"File downloaded successfully. Size: {get_size(local_path)} bytes\")\n",
    "            except Exception as e:\n",
    "                logger.error(f\"Failed to download file from {self.config.source_URL}: {e}\")\n",
    "                raise\n",
    "        else:\n",
    "            logger.info(f\"File already exists at: [{local_path}] (size: {get_size(local_path)} bytes)\")\n",
    "\n",
    "    def unzip_and_clean(self) -> None:\n",
    "        \"\"\"Unzips the dataset and removes the original zip file.\"\"\"\n",
    "        local_path = Path(self.config.local_data_file)\n",
    "        unzip_dir = Path(self.config.unzip_dir)\n",
    "\n",
    "        logger.info(f\"Unzipping file: [{local_path}] to dir: [{unzip_dir}]\")\n",
    "        try:\n",
    "            with zipfile.ZipFile(local_path, \"r\") as zip_ref:\n",
    "                zip_ref.extractall(unzip_dir)\n",
    "            logger.info(\"Unzipping completed successfully.\")\n",
    "        except zipfile.BadZipFile as e:\n",
    "            logger.error(f\"Invalid zip file: {local_path} ({e})\")\n",
    "            raise\n",
    "        except Exception as e:\n",
    "            logger.error(f\"Error while unzipping {local_path}: {e}\")\n",
    "            raise\n",
    "\n",
    "        # Clean up zip file only after successful extraction\n",
    "        try:\n",
    "            local_path.unlink()\n",
    "            logger.info(f\"Deleted zip file: [{local_path}]\")\n",
    "        except Exception as e:\n",
    "            logger.warning(f\"Could not delete zip file {local_path}: {e}\")\n"
   ]
  },
  {
   "cell_type": "code",
   "execution_count": 10,
   "id": "beb5b9ee",
   "metadata": {},
   "outputs": [
    {
     "name": "stdout",
     "output_type": "stream",
     "text": [
      "2025-08-25 13:13:52,965 - my_project - INFO - YAML file 'config\\config.yaml' read successfully.\n",
      "2025-08-25 13:13:52,969 - my_project - WARNING - YAML file params.yaml is empty.\n",
      "2025-08-25 13:13:52,969 - my_project - INFO - YAML file 'params.yaml' read successfully.\n",
      "2025-08-25 13:13:52,969 - my_project - WARNING - YAML file schema.yaml is empty.\n",
      "2025-08-25 13:13:52,969 - my_project - INFO - YAML file 'schema.yaml' read successfully.\n",
      "2025-08-25 13:13:52,981 - my_project - INFO - Directory created: 'artifacts'\n",
      "2025-08-25 13:13:52,981 - my_project - INFO - Directory created: 'artifacts\\data_ingestion'\n",
      "2025-08-25 13:13:52,987 - my_project - INFO - Downloading file from: [https://github.com/entbappy/Branching-tutorial/raw/master/winequality-data.zip] to: [artifacts\\data_ingestion\\data.zip]\n",
      "2025-08-25 13:14:00,351 - my_project - INFO - Size of file 'artifacts\\data_ingestion\\data.zip': 23329 bytes\n",
      "2025-08-25 13:14:00,357 - my_project - INFO - File downloaded successfully. Size: 23329 bytes\n",
      "2025-08-25 13:14:00,363 - my_project - INFO - Unzipping file: [artifacts\\data_ingestion\\data.zip] to dir: [artifacts\\data_ingestion]\n",
      "2025-08-25 13:14:00,468 - my_project - INFO - Unzipping completed successfully.\n",
      "2025-08-25 13:14:00,474 - my_project - INFO - Deleted zip file: [artifacts\\data_ingestion\\data.zip]\n",
      "2025-08-25 13:14:00,479 - my_project - INFO - ===== Data Ingestion completed successfully =====\n"
     ]
    }
   ],
   "source": [
    "#pipline\n",
    "try:\n",
    "    config = ConfigurationManager()\n",
    "    data_ingestion_config = config.get_data_ingestion_config()\n",
    "\n",
    "    data_ingestion = DataIngestion(config=data_ingestion_config)\n",
    "    data_ingestion.download_file()\n",
    "    data_ingestion.unzip_and_clean()\n",
    "\n",
    "    logger.info(\"===== Data Ingestion completed successfully =====\")\n",
    "\n",
    "except Exception as e:\n",
    "    logger.exception(f\"Pipeline failed due to error: {e}\")\n",
    "    raise\n"
   ]
  },
  {
   "cell_type": "code",
   "execution_count": null,
   "id": "1e88d5eb",
   "metadata": {},
   "outputs": [],
   "source": []
  }
 ],
 "metadata": {
  "kernelspec": {
   "display_name": "myenv",
   "language": "python",
   "name": "python3"
  },
  "language_info": {
   "codemirror_mode": {
    "name": "ipython",
    "version": 3
   },
   "file_extension": ".py",
   "mimetype": "text/x-python",
   "name": "python",
   "nbconvert_exporter": "python",
   "pygments_lexer": "ipython3",
   "version": "3.12.11"
  }
 },
 "nbformat": 4,
 "nbformat_minor": 5
}
