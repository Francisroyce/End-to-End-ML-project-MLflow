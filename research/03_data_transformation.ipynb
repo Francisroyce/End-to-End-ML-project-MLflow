{
 "cells": [
  {
   "cell_type": "code",
   "execution_count": 1,
   "id": "910b6d4d",
   "metadata": {},
   "outputs": [],
   "source": [
    "import os"
   ]
  },
  {
   "cell_type": "code",
   "execution_count": 2,
   "id": "7db9f48d",
   "metadata": {},
   "outputs": [],
   "source": [
    "%pwd\n",
    "os.chdir(\"..\")"
   ]
  },
  {
   "cell_type": "code",
   "execution_count": 3,
   "id": "02bdc556",
   "metadata": {},
   "outputs": [
    {
     "data": {
      "text/plain": [
       "'c:\\\\Users\\\\user\\\\Desktop\\\\End-to-End-ML-project-MLflow'"
      ]
     },
     "execution_count": 3,
     "metadata": {},
     "output_type": "execute_result"
    }
   ],
   "source": [
    "%pwd"
   ]
  },
  {
   "cell_type": "code",
   "execution_count": 18,
   "id": "8babf617",
   "metadata": {},
   "outputs": [],
   "source": [
    "# entity\n",
    "\n",
    "from dataclasses import dataclass\n",
    "from pathlib import Path\n",
    "\n",
    "@dataclass\n",
    "class DataTransformationConfig:\n",
    "    root_dir: Path\n",
    "    data_path: Path"
   ]
  },
  {
   "cell_type": "code",
   "execution_count": 19,
   "id": "049d824e",
   "metadata": {},
   "outputs": [],
   "source": [
    "# configuration manager\n",
    "from my_project.constants import *\n",
    "from my_project.utils.common import read_yaml, create_directories\n",
    "\n",
    "class ConfigurationManager:\n",
    "    def __init__(\n",
    "        self,\n",
    "        config_filepath: Path = CONFIG_FILE_PATH,\n",
    "        params_filepath: Path = PARAMS_FILE_PATH,\n",
    "        schema_filepath: Path = SCHEMA_FILE_PATH,\n",
    "    ):\n",
    "        # Load configs\n",
    "        self.config = read_yaml(config_filepath)\n",
    "        self.params = read_yaml(params_filepath)\n",
    "        self.schema = read_yaml(schema_filepath)  # dict (safe for schema)\n",
    "\n",
    "        # Ensure artifacts root exists\n",
    "        create_directories([Path(self.config.artifacts_root)])\n",
    "    \n",
    "    \n",
    "    def get_data_transformation_config(self) -> DataTransformationConfig:\n",
    "        config = self.config.data_transformation\n",
    "        create_directories([Path(config.root_dir)])\n",
    "        data_transformation_config = DataTransformationConfig(\n",
    "            root_dir=Path(config.root_dir),\n",
    "            data_path=Path(config.data_path)\n",
    "        )\n",
    "        return data_transformation_config"
   ]
  },
  {
   "cell_type": "code",
   "execution_count": null,
   "id": "01d61eed",
   "metadata": {},
   "outputs": [],
   "source": [
    "# components of data transformation\n",
    "import os\n",
    "import pandas as pd\n",
    "from sklearn.model_selection import train_test_split\n",
    "from my_project import logger\n",
    "\n",
    "\n",
    "class DataTransformation:\n",
    "    def __init__(self, config: DataTransformationConfig):\n",
    "        self.config = config\n",
    "\n",
    "    def initiate_data_transformation(self):\n",
    "        logger.info(\"Data Transformation started\")\n",
    "        \n",
    "        # Load data\n",
    "        df = pd.read_csv(self.config.data_path)\n",
    "\n",
    "        # Split into train and test\n",
    "        train_df, test_df = train_test_split(df, test_size=0.2, random_state=42)\n",
    "        \n",
    "        # Print or log shapes\n",
    "        print(\"Train shape:\", train_df.shape)\n",
    "        print(\"Test shape:\", test_df.shape)\n",
    "        logger.info(f\"Train shape: {train_df.shape}, Test shape: {test_df.shape}\")\n",
    "        \n",
    "        # Define file paths\n",
    "        train_path = os.path.join(self.config.root_dir, \"train.csv\")\n",
    "        test_path = os.path.join(self.config.root_dir, \"test.csv\")\n",
    "\n",
    "        # Save transformed data\n",
    "        train_df.to_csv(train_path, index=False)\n",
    "        test_df.to_csv(test_path, index=False)\n",
    "        \n",
    "        logger.info(f\"Transformed data saved at {self.config.root_dir}\")\n",
    "        return train_path, test_path\n"
   ]
  },
  {
   "cell_type": "code",
   "execution_count": null,
   "id": "56d4e163",
   "metadata": {},
   "outputs": [
    {
     "name": "stdout",
     "output_type": "stream",
     "text": [
      "2025-08-28 11:35:06,262 - my_project - INFO - YAML file 'config\\config.yaml' read successfully.\n",
      "2025-08-28 11:35:06,269 - my_project - WARNING - YAML file params.yaml is empty.\n",
      "2025-08-28 11:35:06,271 - my_project - INFO - YAML file 'params.yaml' read successfully.\n",
      "2025-08-28 11:35:06,283 - my_project - INFO - YAML file 'schema.yaml' read successfully.\n",
      "2025-08-28 11:35:06,292 - my_project - INFO - Directory created: 'artifacts'\n",
      "2025-08-28 11:35:06,299 - my_project - INFO - Directory created: 'artifacts\\data_transformation'\n",
      "DataTransformationConfig(root_dir=WindowsPath('artifacts/data_transformation'), data_path=WindowsPath('artifacts/data_validation/cleaned_data.csv'))\n",
      "2025-08-28 11:35:06,304 - my_project - INFO - Data Transformation started\n",
      "Train shape: (943, 12)\n",
      "Test shape: (236, 12)\n",
      "2025-08-28 11:35:06,323 - my_project - INFO - Train shape: (943, 12), Test shape: (236, 12)\n",
      "2025-08-28 11:35:06,382 - my_project - INFO - Transformed data saved at artifacts\\data_transformation\n"
     ]
    }
   ],
   "source": [
    "#pipeline execution\n",
    "try:\n",
    "    config = ConfigurationManager()\n",
    "    data_transformation_config = config.get_data_transformation_config()\n",
    "    print(data_transformation_config)\n",
    "    \n",
    "    data_transformation = DataTransformation(config=data_transformation_config)\n",
    "    data_transformation.initiate_data_transformation()\n",
    "except Exception as e:\n",
    "    logger.error(f\"Error in Data Transformation: {e}\")\n",
    "    raise\n"
   ]
  },
  {
   "cell_type": "code",
   "execution_count": null,
   "id": "caee66c0",
   "metadata": {},
   "outputs": [],
   "source": []
  }
 ],
 "metadata": {
  "kernelspec": {
   "display_name": "myenv",
   "language": "python",
   "name": "python3"
  },
  "language_info": {
   "codemirror_mode": {
    "name": "ipython",
    "version": 3
   },
   "file_extension": ".py",
   "mimetype": "text/x-python",
   "name": "python",
   "nbconvert_exporter": "python",
   "pygments_lexer": "ipython3",
   "version": "3.12.11"
  }
 },
 "nbformat": 4,
 "nbformat_minor": 5
}
