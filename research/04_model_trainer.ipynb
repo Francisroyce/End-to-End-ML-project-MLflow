{
 "cells": [
  {
   "cell_type": "code",
   "execution_count": 1,
   "id": "1ceb15c3",
   "metadata": {},
   "outputs": [],
   "source": [
    "import os"
   ]
  },
  {
   "cell_type": "code",
   "execution_count": 2,
   "id": "3bc55aa4",
   "metadata": {},
   "outputs": [],
   "source": [
    "%pwd\n",
    "os.chdir(\"..\")"
   ]
  },
  {
   "cell_type": "code",
   "execution_count": 3,
   "id": "fcab7369",
   "metadata": {},
   "outputs": [
    {
     "data": {
      "text/plain": [
       "'c:\\\\Users\\\\user\\\\Desktop\\\\End-to-End-ML-project-MLflow'"
      ]
     },
     "execution_count": 3,
     "metadata": {},
     "output_type": "execute_result"
    }
   ],
   "source": [
    "%pwd"
   ]
  },
  {
   "cell_type": "code",
   "execution_count": 11,
   "id": "f6074eaa",
   "metadata": {},
   "outputs": [],
   "source": [
    "#entity\n",
    "\n",
    "from dataclasses import *\n",
    "from pathlib import Path\n",
    "\n",
    "@dataclass\n",
    "class ModelTrainerConfig:\n",
    "    root_dir: Path\n",
    "    trained_data_path: Path\n",
    "    test_data_path: Path\n",
    "    model_name: str\n",
    "    alpha: float\n",
    "    l1_ratio: float\n",
    "    random_state: int\n",
    "    target_column: str"
   ]
  },
  {
   "cell_type": "code",
   "execution_count": 12,
   "id": "e81c0830",
   "metadata": {},
   "outputs": [],
   "source": [
    "from my_project.constants import *\n",
    "from my_project.utils.common import read_yaml, create_directories\n",
    "\n",
    "# configuration manager\n",
    "class ConfigurationManager:\n",
    "    def __init__(\n",
    "        self,\n",
    "        config_filepath: Path = CONFIG_FILE_PATH,\n",
    "        params_filepath: Path = PARAMS_FILE_PATH,\n",
    "        schema_filepath: Path = SCHEMA_FILE_PATH,\n",
    "    ):\n",
    "        # Load configs\n",
    "        self.config = read_yaml(config_filepath)\n",
    "        self.params = read_yaml(params_filepath)\n",
    "        self.schema = read_yaml(schema_filepath)  # dict (safe for schema)\n",
    "\n",
    "        # Ensure artifacts root exists\n",
    "        create_directories([Path(self.config.artifacts_root)])\n",
    "\n",
    "    \n",
    "    def get_model_trainer_config(self) -> ModelTrainerConfig:\n",
    "        config = self.config.model_trainer\n",
    "        params = self.params.ElasticNet\n",
    "        schema = self.schema.target_column\n",
    "\n",
    "        create_directories([Path(config.root_dir)])\n",
    "\n",
    "        model_trainer_config = ModelTrainerConfig(\n",
    "            root_dir=Path(config.root_dir),\n",
    "            trained_data_path=Path(config.trained_data_path),\n",
    "            test_data_path=Path(config.test_data_path),\n",
    "            model_name=config.model_name,\n",
    "            alpha=params.alpha,\n",
    "            l1_ratio=params.l1_ratio,\n",
    "            random_state=params.random_state,\n",
    "            target_column=schema\n",
    "        )\n",
    "\n",
    "        return model_trainer_config"
   ]
  },
  {
   "cell_type": "code",
   "execution_count": 13,
   "id": "a7e5b0a3",
   "metadata": {},
   "outputs": [],
   "source": [
    "# components\n",
    "import pandas as pd\n",
    "import os\n",
    "from my_project import logging\n",
    "from sklearn.linear_model import ElasticNet\n",
    "import joblib\n",
    "\n",
    "class ModelTrainer:\n",
    "    def __init__(self, config: ModelTrainerConfig):\n",
    "        self.config = config\n",
    "\n",
    "    def train_model(self, x_train, y_train):\n",
    "        model = ElasticNet(\n",
    "            alpha=self.config.alpha,\n",
    "            l1_ratio=self.config.l1_ratio,\n",
    "            random_state=self.config.random_state,\n",
    "        )\n",
    "        model.fit(x_train, y_train)\n",
    "        return model\n",
    "\n",
    "    def initiate_model_trainer(self):\n",
    "        logging.info(\"Loading training and test data\")\n",
    "        train_df = pd.read_csv(self.config.trained_data_path)\n",
    "        test_df = pd.read_csv(self.config.test_data_path)\n",
    "\n",
    "        target_column = self.config.target_column\n",
    "\n",
    "        logging.info(\"Splitting training and test data into features and target\")\n",
    "        x_train = train_df.drop(columns=[target_column], axis=1)\n",
    "        y_train = train_df[target_column]\n",
    "\n",
    "        x_test = test_df.drop(columns=[target_column], axis=1)\n",
    "        y_test = test_df[target_column]\n",
    "\n",
    "        logging.info(\"Training the model\")\n",
    "        model = self.train_model(x_train, y_train)\n",
    "\n",
    "        logging.info(\"Saving the trained model\")\n",
    "        joblib.dump(model, os.path.join(self.config.root_dir, self.config.model_name))\n",
    "\n",
    "        logging.info(\"Model training completed\")\n",
    "\n",
    "        return model\n"
   ]
  },
  {
   "cell_type": "code",
   "execution_count": 15,
   "id": "eb0884f4",
   "metadata": {},
   "outputs": [
    {
     "name": "stdout",
     "output_type": "stream",
     "text": [
      "2025-09-01 12:29:17,226 - my_project - INFO - YAML file 'config\\config.yaml' read successfully.\n",
      "2025-09-01 12:29:17,233 - my_project - INFO - YAML file 'params.yaml' read successfully.\n",
      "2025-09-01 12:29:17,235 - my_project - INFO - YAML file 'schema.yaml' read successfully.\n",
      "2025-09-01 12:29:17,243 - my_project - INFO - Directory created: 'artifacts'\n",
      "2025-09-01 12:29:17,245 - my_project - INFO - Directory created: 'artifacts\\model_trainer'\n",
      "2025-09-01 12:29:17,245 - root - INFO - Loading training and test data\n",
      "2025-09-01 12:29:17,334 - root - INFO - Splitting training and test data into features and target\n",
      "2025-09-01 12:29:17,340 - root - INFO - Training the model\n",
      "2025-09-01 12:29:17,354 - root - INFO - Saving the trained model\n",
      "2025-09-01 12:29:17,360 - root - INFO - Model training completed\n"
     ]
    }
   ],
   "source": [
    "try:\n",
    "    config = ConfigurationManager()\n",
    "    model_trainer_config = config.get_model_trainer_config()\n",
    "\n",
    "    model_trainer = ModelTrainer(config=model_trainer_config)\n",
    "    model_trainer.initiate_model_trainer()\n",
    "except Exception as e:\n",
    "    raise e"
   ]
  },
  {
   "cell_type": "code",
   "execution_count": null,
   "id": "d3d28196",
   "metadata": {},
   "outputs": [],
   "source": []
  }
 ],
 "metadata": {
  "kernelspec": {
   "display_name": "myenv",
   "language": "python",
   "name": "python3"
  },
  "language_info": {
   "codemirror_mode": {
    "name": "ipython",
    "version": 3
   },
   "file_extension": ".py",
   "mimetype": "text/x-python",
   "name": "python",
   "nbconvert_exporter": "python",
   "pygments_lexer": "ipython3",
   "version": "3.12.11"
  }
 },
 "nbformat": 4,
 "nbformat_minor": 5
}
