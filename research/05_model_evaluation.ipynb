{
 "cells": [
  {
   "cell_type": "code",
   "execution_count": 33,
   "id": "54988c72",
   "metadata": {},
   "outputs": [],
   "source": [
    "import os"
   ]
  },
  {
   "cell_type": "code",
   "execution_count": 34,
   "id": "2947529f",
   "metadata": {},
   "outputs": [],
   "source": [
    "%pwd\n",
    "os.chdir(\"..\")"
   ]
  },
  {
   "cell_type": "code",
   "execution_count": 35,
   "id": "4a5374de",
   "metadata": {},
   "outputs": [
    {
     "data": {
      "text/plain": [
       "'c:\\\\Users\\\\user\\\\Desktop\\\\End-to-End-ML-project-MLflow'"
      ]
     },
     "execution_count": 35,
     "metadata": {},
     "output_type": "execute_result"
    }
   ],
   "source": [
    "%pwd"
   ]
  },
  {
   "cell_type": "code",
   "execution_count": 1,
   "id": "426526d8",
   "metadata": {},
   "outputs": [
    {
     "data": {
      "text/html": [
       "<pre style=\"white-space:pre;overflow-x:auto;line-height:normal;font-family:Menlo,'DejaVu Sans Mono',consolas,'Courier New',monospace\">                                       <span style=\"font-weight: bold\">❗❗❗ AUTHORIZATION REQUIRED ❗❗❗</span>                                        \n",
       "</pre>\n"
      ],
      "text/plain": [
       "                                       \u001b[1m❗❗❗ AUTHORIZATION REQUIRED ❗❗❗\u001b[0m                                        \n"
      ]
     },
     "metadata": {},
     "output_type": "display_data"
    },
    {
     "data": {
      "text/html": [
       "<pre style=\"white-space:pre;overflow-x:auto;line-height:normal;font-family:Menlo,'DejaVu Sans Mono',consolas,'Courier New',monospace\">c:\\Users\\user\\anaconda3\\envs\\myenv\\Lib\\site-packages\\rich\\live.py:256: UserWarning: install \"ipywidgets\" for \n",
       "Jupyter support\n",
       "  warnings.warn('install \"ipywidgets\" for Jupyter support')\n",
       "</pre>\n"
      ],
      "text/plain": [
       "c:\\Users\\user\\anaconda3\\envs\\myenv\\Lib\\site-packages\\rich\\live.py:256: UserWarning: install \"ipywidgets\" for \n",
       "Jupyter support\n",
       "  warnings.warn('install \"ipywidgets\" for Jupyter support')\n"
      ]
     },
     "metadata": {},
     "output_type": "display_data"
    },
    {
     "name": "stdout",
     "output_type": "stream",
     "text": [
      "\n",
      "\n",
      "Open the following link in your browser to authorize the client:\n",
      "https://dagshub.com/login/oauth/authorize?state=7bbb70eb-ba4b-44c9-ad68-72d176fc3993&client_id=32b60ba385aa7cecf24046d8195a71c07dd345d9657977863b52e7748e0f0f28&middleman_request_id=cfb60bc75e4be9b309e80c08def9971047dd818d7e2bc1863a6627bf0b584ca3\n",
      "\n",
      "\n"
     ]
    },
    {
     "data": {
      "text/html": [
       "<pre style=\"white-space:pre;overflow-x:auto;line-height:normal;font-family:Menlo,'DejaVu Sans Mono',consolas,'Courier New',monospace\"></pre>\n"
      ],
      "text/plain": []
     },
     "metadata": {},
     "output_type": "display_data"
    },
    {
     "data": {
      "text/html": [
       "<pre style=\"white-space:pre;overflow-x:auto;line-height:normal;font-family:Menlo,'DejaVu Sans Mono',consolas,'Courier New',monospace\">Accessing as Francisroyce\n",
       "</pre>\n"
      ],
      "text/plain": [
       "Accessing as Francisroyce\n"
      ]
     },
     "metadata": {},
     "output_type": "display_data"
    },
    {
     "data": {
      "text/html": [
       "<pre style=\"white-space:pre;overflow-x:auto;line-height:normal;font-family:Menlo,'DejaVu Sans Mono',consolas,'Courier New',monospace\">Initialized MLflow to track repo <span style=\"color: #008000; text-decoration-color: #008000\">\"Francisroyce/End-to-End-ML-project-MLflow\"</span>\n",
       "</pre>\n"
      ],
      "text/plain": [
       "Initialized MLflow to track repo \u001b[32m\"Francisroyce/End-to-End-ML-project-MLflow\"\u001b[0m\n"
      ]
     },
     "metadata": {},
     "output_type": "display_data"
    },
    {
     "data": {
      "text/html": [
       "<pre style=\"white-space:pre;overflow-x:auto;line-height:normal;font-family:Menlo,'DejaVu Sans Mono',consolas,'Courier New',monospace\">Repository Francisroyce/End-to-End-ML-project-MLflow initialized!\n",
       "</pre>\n"
      ],
      "text/plain": [
       "Repository Francisroyce/End-to-End-ML-project-MLflow initialized!\n"
      ]
     },
     "metadata": {},
     "output_type": "display_data"
    }
   ],
   "source": [
    "import dagshub\n",
    "\n",
    "dagshub.init(\n",
    "    repo_owner='Francisroyce',\n",
    "    repo_name='End-to-End-ML-project-MLflow',\n",
    "    mlflow=True\n",
    ")\n"
   ]
  },
  {
   "cell_type": "code",
   "execution_count": 2,
   "id": "b0cce6e4",
   "metadata": {},
   "outputs": [
    {
     "name": "stdout",
     "output_type": "stream",
     "text": [
      "https://dagshub.com/Francisroyce/End-to-End-ML-project-MLflow.mlflow\n"
     ]
    }
   ],
   "source": [
    "import mlflow\n",
    "\n",
    "print(mlflow.get_tracking_uri())\n"
   ]
  },
  {
   "cell_type": "code",
   "execution_count": 3,
   "id": "ab5e984f",
   "metadata": {},
   "outputs": [
    {
     "name": "stdout",
     "output_type": "stream",
     "text": [
      "🏃 View run whimsical-snipe-630 at: https://dagshub.com/Francisroyce/End-to-End-ML-project-MLflow.mlflow/#/experiments/0/runs/9a266470003f4f1e9a63fa4d703ee511\n",
      "🧪 View experiment at: https://dagshub.com/Francisroyce/End-to-End-ML-project-MLflow.mlflow/#/experiments/0\n"
     ]
    }
   ],
   "source": [
    "import mlflow\n",
    "\n",
    "# Start a run\n",
    "with mlflow.start_run():\n",
    "    # Log parameters (hyperparameters)\n",
    "    mlflow.log_param(\"learning_rate\", 0.01)\n",
    "    mlflow.log_param(\"optimizer\", \"adam\")\n",
    "    \n",
    "    # Log metrics\n",
    "    mlflow.log_metric(\"accuracy\", 0.92)\n",
    "    mlflow.log_metric(\"loss\", 0.15)\n"
   ]
  },
  {
   "cell_type": "code",
   "execution_count": null,
   "id": "f312bf02",
   "metadata": {},
   "outputs": [
    {
     "name": "stdout",
     "output_type": "stream",
     "text": [
      "                             run_id    status  metrics.accuracy  metrics.loss\n",
      "0  9a266470003f4f1e9a63fa4d703ee511  FINISHED              0.92          0.15\n"
     ]
    }
   ],
   "source": [
    "for run in mlflow.search_runs():\n",
    "    print(run[['run_id', 'status', 'metrics.accuracy', 'metrics.loss']])\n"
   ]
  },
  {
   "cell_type": "code",
   "execution_count": 123,
   "id": "e058319e",
   "metadata": {},
   "outputs": [],
   "source": [
    "# entity\n",
    "\n",
    "from dataclasses import dataclass\n",
    "from pathlib import Path\n",
    "\n",
    "@dataclass\n",
    "class ModelEvaluationConfig:\n",
    "    root_dir: Path\n",
    "    test_data_path: Path\n",
    "    model_path: Path\n",
    "    all_params: dict\n",
    "    metric_file_name: Path\n",
    "    target_column: str\n",
    "    mlflow_url: str\n",
    "  "
   ]
  },
  {
   "cell_type": "code",
   "execution_count": 124,
   "id": "8ee7d463",
   "metadata": {},
   "outputs": [],
   "source": [
    "# configuration manager\n",
    "\n",
    "from pathlib import Path\n",
    "from my_project.constants import * \n",
    "from my_project.utils.common import read_yaml, create_directories\n",
    "\n",
    "\n",
    "class ConfigurationManager:\n",
    "    def __init__(\n",
    "        self,\n",
    "        config_filepath: Path = CONFIG_FILE_PATH,\n",
    "        params_filepath: Path = PARAMS_FILE_PATH,\n",
    "        schema_filepath: Path = SCHEMA_FILE_PATH,\n",
    "    ):\n",
    "        # Load configs\n",
    "        self.config = read_yaml(config_filepath)\n",
    "        self.params = read_yaml(params_filepath)\n",
    "        self.schema = read_yaml(schema_filepath)\n",
    "\n",
    "        # Ensure artifacts root exists\n",
    "        create_directories([Path(self.config.artifacts_root)])\n",
    "\n",
    "    def get_model_evaluation_config(self) -> ModelEvaluationConfig:\n",
    "        # Attribute-style access for config\n",
    "        config = self.config.model_evaluation\n",
    "\n",
    "        # Use model evaluation params from params.yaml\n",
    "        # This now exists in your updated params.yaml\n",
    "        params = self.params.model_evaluation\n",
    "\n",
    "        # Use target_column from schema.yaml\n",
    "        schema = self.schema.target_column\n",
    "\n",
    "        # Ensure evaluation root directory exists\n",
    "        create_directories([Path(config.root_dir)])\n",
    "\n",
    "        # Build ModelEvaluationConfig dataclass\n",
    "        model_evaluation_config = ModelEvaluationConfig(\n",
    "            root_dir=Path(config.root_dir),\n",
    "            test_data_path=Path(config.test_data_path),\n",
    "            model_path=Path(config.model_path),\n",
    "            all_params=params,  # now contains meaningful evaluation params\n",
    "            metric_file_name=Path(config.metric_file_name),\n",
    "            target_column=schema,\n",
    "            mlflow_url=config.mlflow_url\n",
    "        )\n",
    "\n",
    "        return model_evaluation_config\n"
   ]
  },
  {
   "cell_type": "code",
   "execution_count": null,
   "id": "3d43dc89",
   "metadata": {},
   "outputs": [],
   "source": [
    "# component/model_evaluation.py\n",
    "import os\n",
    "import json\n",
    "import joblib\n",
    "import pandas as pd\n",
    "import numpy as np\n",
    "import mlflow\n",
    "import uuid\n",
    "from pathlib import Path\n",
    "from sklearn.metrics import mean_absolute_error, mean_squared_error, r2_score\n",
    "from my_project import logger\n",
    "\n",
    "\n",
    "class ModelEvaluation:\n",
    "    def __init__(self, config: ModelEvaluationConfig):\n",
    "        self.config = config\n",
    "\n",
    "        # --- Create a unique experiment name to avoid deleted experiment errors ---\n",
    "        experiment_name = f\"model_evaluation_{uuid.uuid4().hex[:6]}\"\n",
    "        mlflow.set_experiment(experiment_name)\n",
    "\n",
    "        # Ensure directories exist\n",
    "        os.makedirs(self.config.root_dir, exist_ok=True)\n",
    "        os.makedirs(Path(self.config.metric_file_name).parent, exist_ok=True)\n",
    "\n",
    "    def evaluate_model(self):\n",
    "        \"\"\"\n",
    "        Evaluate trained model on test data, log metrics to MLflow (DagsHub-compatible),\n",
    "        save metrics locally, and save the model locally (artifact folder).\n",
    "        \"\"\"\n",
    "        try:\n",
    "            # Load test data\n",
    "            test_df = pd.read_csv(self.config.test_data_path)\n",
    "            if self.config.target_column not in test_df.columns:\n",
    "                raise KeyError(f\"Target column '{self.config.target_column}' not found in test data\")\n",
    "\n",
    "            x_test = test_df.drop(columns=[self.config.target_column])\n",
    "            y_test = test_df[self.config.target_column]\n",
    "\n",
    "            # Load trained model\n",
    "            if not Path(self.config.model_path).exists():\n",
    "                raise FileNotFoundError(f\"Model file not found at {self.config.model_path}\")\n",
    "            model = joblib.load(self.config.model_path)\n",
    "\n",
    "            # Generate predictions\n",
    "            y_pred = model.predict(x_test)\n",
    "\n",
    "            # Calculate metrics\n",
    "            metrics = {\n",
    "                \"MAE\": mean_absolute_error(y_test, y_pred),\n",
    "                \"MSE\": mean_squared_error(y_test, y_pred),\n",
    "                \"RMSE\": np.sqrt(mean_squared_error(y_test, y_pred)),\n",
    "                \"R2_Score\": r2_score(y_test, y_pred)\n",
    "            }\n",
    "\n",
    "            # --- LOG METRICS AND PARAMETERS TO MLflow ONLY ---\n",
    "            with mlflow.start_run(run_name=\"model_evaluation\"):\n",
    "                if self.config.all_params:\n",
    "                    for key, value in self.config.all_params.items():\n",
    "                        mlflow.log_param(key, value)\n",
    "                for key, value in metrics.items():\n",
    "                    mlflow.log_metric(key, value)\n",
    "\n",
    "            # --- SAVE METRICS LOCALLY ---\n",
    "            with open(self.config.metric_file_name, \"w\") as f:\n",
    "                json.dump(metrics, f, indent=4)\n",
    "\n",
    "            # --- SAVE MODEL LOCALLY AS ARTIFACT ---\n",
    "            artifact_dir = Path(self.config.root_dir) / \"model_artifacts\"\n",
    "            artifact_dir.mkdir(exist_ok=True)\n",
    "            joblib.dump(model, artifact_dir / \"model.joblib\")\n",
    "\n",
    "            logger.info(f\"Model evaluation metrics logged and saved: {metrics}\")\n",
    "            logger.info(f\"Model saved locally at: {artifact_dir / 'model.joblib'}\")\n",
    "            return metrics\n",
    "\n",
    "        except Exception as e:\n",
    "            logger.error(f\"Error during model evaluation: {e}\")\n",
    "            raise\n"
   ]
  },
  {
   "cell_type": "code",
   "execution_count": 126,
   "id": "680d98da",
   "metadata": {},
   "outputs": [
    {
     "name": "stdout",
     "output_type": "stream",
     "text": [
      "2025-09-01 15:39:36,792 - httpx - INFO - HTTP Request: GET https://dagshub.com/api/v1/repos/Francisroyce/End-to-End-ML-project-MLflow \"HTTP/1.1 200 OK\"\n"
     ]
    },
    {
     "data": {
      "text/html": [
       "<pre style=\"white-space:pre;overflow-x:auto;line-height:normal;font-family:Menlo,'DejaVu Sans Mono',consolas,'Courier New',monospace\">Initialized MLflow to track repo <span style=\"color: #008000; text-decoration-color: #008000\">\"Francisroyce/End-to-End-ML-project-MLflow\"</span>\n",
       "</pre>\n"
      ],
      "text/plain": [
       "Initialized MLflow to track repo \u001b[32m\"Francisroyce/End-to-End-ML-project-MLflow\"\u001b[0m\n"
      ]
     },
     "metadata": {},
     "output_type": "display_data"
    },
    {
     "name": "stdout",
     "output_type": "stream",
     "text": [
      "2025-09-01 15:39:36,823 - dagshub - INFO - Initialized MLflow to track repo \"Francisroyce/End-to-End-ML-project-MLflow\"\n"
     ]
    },
    {
     "data": {
      "text/html": [
       "<pre style=\"white-space:pre;overflow-x:auto;line-height:normal;font-family:Menlo,'DejaVu Sans Mono',consolas,'Courier New',monospace\">Repository Francisroyce/End-to-End-ML-project-MLflow initialized!\n",
       "</pre>\n"
      ],
      "text/plain": [
       "Repository Francisroyce/End-to-End-ML-project-MLflow initialized!\n"
      ]
     },
     "metadata": {},
     "output_type": "display_data"
    },
    {
     "name": "stdout",
     "output_type": "stream",
     "text": [
      "2025-09-01 15:39:36,834 - dagshub - INFO - Repository Francisroyce/End-to-End-ML-project-MLflow initialized!\n",
      "2025-09-01 15:39:36,857 - my_project - INFO - YAML file 'config\\config.yaml' read successfully.\n",
      "2025-09-01 15:39:36,865 - my_project - INFO - YAML file 'params.yaml' read successfully.\n",
      "2025-09-01 15:39:36,877 - my_project - INFO - YAML file 'schema.yaml' read successfully.\n",
      "2025-09-01 15:39:36,883 - my_project - INFO - Directory created: 'artifacts'\n",
      "2025-09-01 15:39:36,889 - my_project - INFO - Directory created: 'artifacts\\model_evaluation'\n",
      "Error during model evaluation: Cannot set a deleted experiment 'model_evaluation' as the active experiment. You can restore the experiment, or permanently delete the experiment to create a new one.\n"
     ]
    }
   ],
   "source": [
    "# pipeline\n",
    "import dagshub\n",
    "\n",
    "# --- Initialize DagsHub and MLflow ---\n",
    "dagshub.init(\n",
    "    repo_owner='Francisroyce',\n",
    "    repo_name='End-to-End-ML-project-MLflow',\n",
    "    mlflow=True\n",
    ")\n",
    "try:\n",
    "    config_manager = ConfigurationManager()\n",
    "    model_evaluation_config = config_manager.get_model_evaluation_config()\n",
    "    model_evaluation = ModelEvaluation(config=model_evaluation_config)\n",
    "    metrics = model_evaluation.evaluate_model()\n",
    "    print(\"Model evaluation metrics:\", metrics)\n",
    "except Exception as e:\n",
    "    print(f\"Error during model evaluation: {e}\")"
   ]
  },
  {
   "cell_type": "code",
   "execution_count": null,
   "id": "36c80906",
   "metadata": {},
   "outputs": [],
   "source": []
  },
  {
   "cell_type": "code",
   "execution_count": null,
   "id": "7355af5e",
   "metadata": {},
   "outputs": [],
   "source": []
  },
  {
   "cell_type": "code",
   "execution_count": null,
   "id": "d9906aa2",
   "metadata": {},
   "outputs": [],
   "source": []
  }
 ],
 "metadata": {
  "kernelspec": {
   "display_name": "myenv",
   "language": "python",
   "name": "python3"
  },
  "language_info": {
   "codemirror_mode": {
    "name": "ipython",
    "version": 3
   },
   "file_extension": ".py",
   "mimetype": "text/x-python",
   "name": "python",
   "nbconvert_exporter": "python",
   "pygments_lexer": "ipython3",
   "version": "3.12.11"
  }
 },
 "nbformat": 4,
 "nbformat_minor": 5
}
